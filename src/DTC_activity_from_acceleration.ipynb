{
  "nbformat": 4,
  "nbformat_minor": 2,
  "metadata": {
    "colab": {
      "name": "DecisionTreeExample.ipynb",
      "provenance": [],
      "collapsed_sections": []
    },
    "kernelspec": {
      "name": "python3",
      "display_name": "Python 3.8.12 64-bit ('Work': conda)"
    },
    "language_info": {
      "name": "python",
      "version": "3.8.12",
      "mimetype": "text/x-python",
      "codemirror_mode": {
        "name": "ipython",
        "version": 3
      },
      "pygments_lexer": "ipython3",
      "nbconvert_exporter": "python",
      "file_extension": ".py"
    },
    "interpreter": {
      "hash": "a39c75215214a0c56e27045d7dad723d3913eeb2c88109ae83ee6a2d98838bf1"
    }
  },
  "cells": [
    {
      "cell_type": "markdown",
      "source": [
        "#Test decision tree classifyer over digits dataset"
      ],
      "metadata": {
        "id": "AX-d1PIO4Hbn"
      }
    },
    {
      "cell_type": "code",
      "execution_count": 17,
      "source": [
        "import pandas as pd\n",
        "from sklearn import tree\n",
        "import random\n",
        "from sklearn.model_selection import train_test_split\n",
        "from sklearn.metrics import confusion_matrix\n",
        "\n",
        "X=pd.read_csv('Data/3.csv',header=None,delimiter=',',usecols=[1, 2, 3]).values\n",
        "Y=pd.read_csv('Data/3.csv',header=None,delimiter=',',usecols=[4]).values[:,0]\n",
        "\n",
        "X_train,X_test,Y_train,Y_test = train_test_split(X,Y,test_size=0.3,random_state=random.seed())\n",
        "clf=tree.DecisionTreeClassifier(max_leaf_nodes=199,criterion='entropy')\n",
        "clf.fit(X_train,Y_train)\n",
        "prev_test = clf.predict(X_test)\n",
        "#print(prev)\n",
        "scoretree = clf.score(X_test,Y_test)\n",
        "# Compute the confusion matrix between kmean label and iris types\n",
        "\n",
        "cm=confusion_matrix(Y_test,prev_test)\n",
        "# the confusion matrix is difficult to read as labels assigned by kmeans are arbitrary\n",
        "print(cm)\n",
        "print(scoretree)"
      ],
      "outputs": [
        {
          "output_type": "stream",
          "name": "stdout",
          "text": [
            "[[    0     0     0     0     0     0     0     1]\n",
            " [    0 12375    56     1   109    16     1    20]\n",
            " [    0   233   665    28   631     6     4    33]\n",
            " [    0     2   132   339   505    57    57   196]\n",
            " [    0    83   187    50  6880    48     4   355]\n",
            " [    0     0     5    13   476   225     0   110]\n",
            " [    0     4     5    50   231     3   100    12]\n",
            " [    0    31    25   113   476    32     8  5710]]\n",
            "0.856398397550728\n"
          ]
        }
      ],
      "metadata": {
        "id": "c4PV4Lge3_ts",
        "colab": {
          "base_uri": "https://localhost:8080/"
        },
        "outputId": "e30aad81-da71-4d13-b373-b70195a11ab0"
      }
    },
    {
      "cell_type": "code",
      "execution_count": 18,
      "source": [
        "from sklearn.model_selection import KFold\n",
        "kf=KFold(n_splits=4, shuffle=True) # partages de validation\n",
        "XXX = X_train[:12,:]  # je prends uniquement les 12 premières lignes\n",
        "#print(XXX)\n",
        "for learn,test in kf.split(XXX): # boucle sur différents partages de validation\n",
        "  print(\"Learn\")\n",
        "  print(learn)\n",
        "  print(\"test\")\n",
        "  print(test)\n",
        "\n",
        "\n",
        "from sklearn.model_selection import KFold\n",
        "kf=KFold(n_splits=3, shuffle=True) # partages de validation\n"
      ],
      "outputs": [
        {
          "output_type": "stream",
          "name": "stdout",
          "text": [
            "Learn\n",
            "[ 1  2  3  4  7  8  9 10 11]\n",
            "test\n",
            "[0 5 6]\n",
            "Learn\n",
            "[ 0  1  2  4  5  6  8 10 11]\n",
            "test\n",
            "[3 7 9]\n",
            "Learn\n",
            "[0 2 3 4 5 6 7 8 9]\n",
            "test\n",
            "[ 1 10 11]\n",
            "Learn\n",
            "[ 0  1  3  5  6  7  9 10 11]\n",
            "test\n",
            "[2 4 8]\n"
          ]
        }
      ],
      "metadata": {}
    },
    {
      "cell_type": "code",
      "execution_count": 28,
      "source": [
        "from sklearn import neighbors\n",
        "scores=[]\n",
        "for k in range(190,210):  # les différentes valeurs de k à tester\n",
        "    score=0\n",
        "    clf=tree.DecisionTreeClassifier(max_leaf_nodes=k,criterion='entropy')\n",
        "    for learn,test in kf.split(X_train): # boucle sur différents partages de validation\n",
        "        X_app=X_train[learn]\n",
        "        Y_app=Y_train[learn]\n",
        "        clf.fit(X_app,Y_app)\n",
        "        X_val=X_train[test]\n",
        "        Y_val=Y_train[test]\n",
        "        score+=clf.score(X_val,Y_val)\n",
        "    scores.append(score)\n",
        "print(scores)\n",
        "#plt(scores)\n",
        "k_opt=scores.index(max(scores)) + 1  # valeur optimale de k\n",
        "print(k_opt)"
      ],
      "outputs": [
        {
          "output_type": "stream",
          "name": "stdout",
          "text": [
            "[2.563136981864808, 2.5635136488310026, 2.5642256503562804, 2.569167179967849, 2.5633043334825363, 2.56611015488964, 2.562215593090317, 2.563178784257286, 2.566529010057196, 2.5624668686621686, 2.5642258239702778, 2.5646026470137024, 2.563932600450779, 2.560121820557763, 2.5628855467083733, 2.5666546487199597, 2.564477032902413, 2.5641419649021944, 2.563346239341942, 2.564267496590677]\n",
            "4\n"
          ]
        }
      ],
      "metadata": {}
    }
  ]
}