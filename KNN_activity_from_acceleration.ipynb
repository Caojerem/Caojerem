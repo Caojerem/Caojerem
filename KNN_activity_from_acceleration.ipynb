{
  "cells": [
    {
      "cell_type": "code",
      "execution_count": 1,
      "metadata": {
        "colab": {
          "base_uri": "https://localhost:8080/"
        },
        "id": "33V_o66TyXFT",
        "outputId": "3f5de787-867a-4c37-a35e-130bb2ffaf72"
      },
      "outputs": [
        {
          "name": "stdout",
          "output_type": "stream",
          "text": [
            "\n",
            "================================\n",
            "Nearest Neighbors Classification\n",
            "================================\n",
            "\n",
            "Sample usage of Nearest Neighbors classification.\n",
            "It will plot the decision boundaries for each class.\n",
            "\n"
          ]
        },
        {
          "ename": "AttributeError",
          "evalue": "'numpy.ndarray' object has no attribute 'head'",
          "output_type": "error",
          "traceback": [
            "\u001b[0;31m---------------------------------------------------------------------------\u001b[0m",
            "\u001b[0;31mAttributeError\u001b[0m                            Traceback (most recent call last)",
            "\u001b[0;32m/tmp/ipykernel_72818/650476185.py\u001b[0m in \u001b[0;36m<module>\u001b[0;34m\u001b[0m\n\u001b[1;32m     26\u001b[0m \u001b[0mX\u001b[0m \u001b[0;34m=\u001b[0m\u001b[0mpd\u001b[0m\u001b[0;34m.\u001b[0m\u001b[0mread_csv\u001b[0m\u001b[0;34m(\u001b[0m\u001b[0mCSV_PATH\u001b[0m\u001b[0;34m,\u001b[0m\u001b[0mheader\u001b[0m\u001b[0;34m=\u001b[0m\u001b[0;32mNone\u001b[0m\u001b[0;34m,\u001b[0m\u001b[0mdelimiter\u001b[0m\u001b[0;34m=\u001b[0m\u001b[0;34m','\u001b[0m\u001b[0;34m,\u001b[0m\u001b[0musecols\u001b[0m\u001b[0;34m=\u001b[0m\u001b[0;34m[\u001b[0m\u001b[0;36m1\u001b[0m\u001b[0;34m,\u001b[0m \u001b[0;36m2\u001b[0m\u001b[0;34m,\u001b[0m \u001b[0;36m3\u001b[0m\u001b[0;34m]\u001b[0m\u001b[0;34m)\u001b[0m\u001b[0;34m.\u001b[0m\u001b[0mvalues\u001b[0m\u001b[0;34m\u001b[0m\u001b[0;34m\u001b[0m\u001b[0m\n\u001b[1;32m     27\u001b[0m \u001b[0;34m\u001b[0m\u001b[0m\n\u001b[0;32m---> 28\u001b[0;31m \u001b[0mX\u001b[0m\u001b[0;34m.\u001b[0m\u001b[0mhead\u001b[0m\u001b[0;34m(\u001b[0m\u001b[0;34m)\u001b[0m\u001b[0;34m\u001b[0m\u001b[0;34m\u001b[0m\u001b[0m\n\u001b[0m",
            "\u001b[0;31mAttributeError\u001b[0m: 'numpy.ndarray' object has no attribute 'head'"
          ]
        }
      ],
      "source": [
        "\"\"\"\n",
        "================================\n",
        "Nearest Neighbors Classification\n",
        "================================\n",
        "\n",
        "Sample usage of Nearest Neighbors classification.\n",
        "It will plot the decision boundaries for each class.\n",
        "\"\"\"\n",
        "print(__doc__)\n",
        "\n",
        "import csv\n",
        "import pandas as pd\n",
        "import numpy as np\n",
        "import matplotlib.pyplot as plt\n",
        "from matplotlib.colors import ListedColormap\n",
        "from sklearn import neighbors, datasets\n",
        "from mpl_toolkits import mplot3d\n",
        "from mpl_toolkits.mplot3d import Axes3D\n",
        "from matplotlib import cm\n",
        "\n",
        "\n",
        "n_neighbors = 9\n",
        "CSV_PATH = 'data/1.csv'\n",
        "\n",
        "# Data import into dataframe\n",
        "X = pd.read_csv(CSV_PATH,header=None,delimiter=',',usecols=[1, 2, 3])\n",
        "\n",
        "X.head()"
      ]
    },
    {
      "cell_type": "code",
      "execution_count": 188,
      "metadata": {
        "colab": {
          "base_uri": "https://localhost:8080/"
        },
        "id": "wKp3xfwXjpUP",
        "outputId": "1f448987-1935-4ddc-fe55-30534678a790"
      },
      "outputs": [
        {
          "data": {
            "text/plain": [
              "(162501, 3)"
            ]
          },
          "execution_count": 188,
          "metadata": {},
          "output_type": "execute_result"
        }
      ],
      "source": [
        "X.shape"
      ]
    },
    {
      "cell_type": "code",
      "execution_count": 189,
      "metadata": {
        "colab": {
          "base_uri": "https://localhost:8080/"
        },
        "id": "SYu2niMK3Wow",
        "outputId": "e489b7b1-508d-45df-d07e-cd64bec0fb1c"
      },
      "outputs": [
        {
          "name": "stdout",
          "output_type": "stream",
          "text": [
            "[1 1 1 ... 7 7 0]\n"
          ]
        }
      ],
      "source": [
        "X.describe()"
      ]
    },
    {
      "cell_type": "code",
      "execution_count": 190,
      "metadata": {
        "colab": {
          "base_uri": "https://localhost:8080/"
        },
        "id": "RPGQ149Cj9MO",
        "outputId": "e9a4b97a-4c07-4fba-e2bb-cc16fd7e4d5b"
      },
      "outputs": [
        {
          "data": {
            "text/plain": [
              "KNeighborsClassifier(n_neighbors=9)"
            ]
          },
          "execution_count": 190,
          "metadata": {},
          "output_type": "execute_result"
        }
      ],
      "source": [
        "clf = neighbors.KNeighborsClassifier(n_neighbors) # je précise la méthode et ses hyperparamètres\n",
        "clf.fit(X, y) # je lance l'apprentissage"
      ]
    },
    {
      "cell_type": "code",
      "execution_count": 191,
      "metadata": {
        "id": "9bgshqS-0Fz9"
      },
      "outputs": [],
      "source": [
        "# Si on est en régresssion..\n",
        "#clf = neighbors.KNeighborsRegressor(n_neighbors=) # je précise la méthode et ses hyperparamètres\n"
      ]
    },
    {
      "cell_type": "code",
      "execution_count": 192,
      "metadata": {
        "colab": {
          "base_uri": "https://localhost:8080/"
        },
        "id": "kGE8eK0PkgXc",
        "outputId": "3a4e5b90-9f72-4313-9db3-80eda5c35152"
      },
      "outputs": [
        {
          "data": {
            "text/plain": [
              "array([1, 1, 1, ..., 7, 7, 7])"
            ]
          },
          "execution_count": 192,
          "metadata": {},
          "output_type": "execute_result"
        }
      ],
      "source": [
        "# prevision\n",
        "clf.predict(X)"
      ]
    },
    {
      "cell_type": "code",
      "execution_count": 193,
      "metadata": {
        "colab": {
          "base_uri": "https://localhost:8080/"
        },
        "id": "vZiw3oIKk0Oy",
        "outputId": "b5d37227-3499-403a-9834-13c07e3429f9"
      },
      "outputs": [
        {
          "data": {
            "text/plain": [
              "0.8667085125629996"
            ]
          },
          "execution_count": 193,
          "metadata": {},
          "output_type": "execute_result"
        }
      ],
      "source": [
        "clf.score(X,y) # predit + calcul le score = la précision"
      ]
    },
    {
      "cell_type": "code",
      "execution_count": 194,
      "metadata": {
        "colab": {
          "base_uri": "https://localhost:8080/"
        },
        "id": "JtMkxn1qmELd",
        "outputId": "d6af8f8d-e558-4a6b-9455-74f64485645f"
      },
      "outputs": [
        {
          "name": "stdout",
          "output_type": "stream",
          "text": [
            "(113750, 3)\n",
            "(48751, 3)\n"
          ]
        }
      ],
      "source": [
        "import random\n",
        "from sklearn.model_selection import train_test_split\n",
        "X_train,X_test,Y_train,Y_test = train_test_split(X,y,test_size=0.3,random_state=random.seed())\n",
        "print(X_train.shape)\n",
        "print(X_test.shape)\n"
      ]
    },
    {
      "cell_type": "code",
      "execution_count": 195,
      "metadata": {
        "colab": {
          "base_uri": "https://localhost:8080/"
        },
        "id": "i2buBo3mnFGn",
        "outputId": "29bb8932-c46e-4ee5-a79c-b7a7b4c56d04"
      },
      "outputs": [
        {
          "name": "stdout",
          "output_type": "stream",
          "text": [
            "0.8669274725274725\n",
            "0.8524953334290578\n"
          ]
        }
      ],
      "source": [
        "n_neighbors=9\n",
        "clf = neighbors.KNeighborsClassifier(n_neighbors) # je précise la méthode et ses hyperparamètres\n",
        "clf.fit(X_train, Y_train) # je lance l'apprentissage\n",
        "prev_test = clf.predict(X_test)\n",
        "sc_train = clf.score(X_train,Y_train)\n",
        "sc_test = clf.score(X_test,Y_test)\n",
        "print(sc_train)\n",
        "print(sc_test)\n"
      ]
    },
    {
      "cell_type": "code",
      "execution_count": 196,
      "metadata": {
        "colab": {
          "base_uri": "https://localhost:8080/"
        },
        "id": "wR4F-ArGB-rb",
        "outputId": "e33938a7-982a-412e-dd99-c48758323a24"
      },
      "outputs": [
        {
          "name": "stdout",
          "output_type": "stream",
          "text": [
            "[[ 9762     3     6   144    14     2   169]\n",
            " [   14    28    10   127     6     1    89]\n",
            " [   12     2  1131   230    30    11  1896]\n",
            " [  178    10   100  6797   141    19   804]\n",
            " [   36     1     6   456   296     4   138]\n",
            " [   10     0    46   587    24    29   181]\n",
            " [  220    19   662   740    20    23 23517]]\n"
          ]
        }
      ],
      "source": [
        "# Compute the confusion matrix between kmean label and iris types\n",
        "from sklearn.metrics import confusion_matrix\n",
        "\n",
        "cmat=confusion_matrix(Y_test,prev_test)\n",
        "# the confusion matrix is difficult to read as labels assigned by kmeans are arbitrary\n",
        "print(cmat)"
      ]
    },
    {
      "cell_type": "code",
      "execution_count": 197,
      "metadata": {
        "colab": {
          "base_uri": "https://localhost:8080/"
        },
        "id": "C_MXzsdSoYjw",
        "outputId": "3fba72cb-54bd-4349-be1a-b9bbab59ad18"
      },
      "outputs": [
        {
          "name": "stdout",
          "output_type": "stream",
          "text": [
            "Learn\n",
            "[ 0  1  3  4  6  7  9 10 11]\n",
            "test\n",
            "[2 5 8]\n",
            "Learn\n",
            "[ 0  1  2  3  4  5  7  8 10]\n",
            "test\n",
            "[ 6  9 11]\n",
            "Learn\n",
            "[ 0  2  3  5  6  7  8  9 11]\n",
            "test\n",
            "[ 1  4 10]\n",
            "Learn\n",
            "[ 1  2  4  5  6  8  9 10 11]\n",
            "test\n",
            "[0 3 7]\n"
          ]
        }
      ],
      "source": [
        "# Pour voir l'effet du partage ...\n",
        "\n",
        "from sklearn.model_selection import KFold\n",
        "kf=KFold(n_splits=4, shuffle=True) # partages de validation\n",
        "XXX = X_train[:12,:]  # je prends uniquement les 12 premières lignes\n",
        "#print(XXX)\n",
        "for learn,test in kf.split(XXX): # boucle sur différents partages de validation\n",
        "  print(\"Learn\")\n",
        "  print(learn)\n",
        "  print(\"test\")\n",
        "  print(test)"
      ]
    },
    {
      "cell_type": "code",
      "execution_count": 198,
      "metadata": {
        "colab": {
          "base_uri": "https://localhost:8080/"
        },
        "id": "w5BVwzv1cWTj",
        "outputId": "bf244c9c-adef-4e2e-ce53-c773097b279c"
      },
      "outputs": [
        {
          "name": "stdout",
          "output_type": "stream",
          "text": [
            "[2.3674021520283715, 2.3194812677992065, 2.4701274794013117, 2.4754549635225125, 2.5186548904938904, 2.5188659033862955, 2.534901149142414, 2.537960454559797, 2.545424165552155]\n",
            "9\n"
          ]
        }
      ],
      "source": [
        "from sklearn.model_selection import KFold\n",
        "kf=KFold(n_splits=3, shuffle=True) # partages de validation\n",
        "\n",
        "\n",
        "from sklearn import neighbors\n",
        "scores=[]\n",
        "for k in range(1,10):  # les différentes valeurs de k à tester\n",
        "    score=0\n",
        "    clf=neighbors.KNeighborsClassifier(k)\n",
        "    for learn,test in kf.split(X_train): # boucle sur différents partages de validation\n",
        "        X_app=X_train[learn]\n",
        "        Y_app=Y_train[learn]\n",
        "        clf.fit(X_app,Y_app)\n",
        "        X_val=X_train[test]\n",
        "        Y_val=Y_train[test]\n",
        "        score+=clf.score(X_val,Y_val)\n",
        "    scores.append(score)\n",
        "print(scores)\n",
        "#plt(scores)\n",
        "k_opt=scores.index(max(scores)) + 1  # valeur optimale de k\n",
        "print(k_opt)"
      ]
    },
    {
      "cell_type": "code",
      "execution_count": 199,
      "metadata": {
        "id": "AnCsnpeDygF3"
      },
      "outputs": [],
      "source": [
        "h = 100  # step size in the mesh for the graphics\n",
        "\n",
        "# Create color maps\n",
        "cmap_light = ListedColormap(['#FFAAAA', '#AAFFAA', '#AAAAFF'])\n",
        "cmap_bold = ListedColormap(['#FF0000', '#00FF00', '#0000FF'])\n"
      ]
    },
    {
      "cell_type": "code",
      "execution_count": 217,
      "metadata": {
        "colab": {
          "base_uri": "https://localhost:8080/",
          "height": 544
        },
        "id": "vj3ObNqbBJ6e",
        "outputId": "551a9238-37b4-45cd-d2e2-9860b7d176b0"
      },
      "outputs": [
        {
          "name": "stderr",
          "output_type": "stream",
          "text": [
            "/var/folders/bd/ns398lz57p79rkmx_fzmlzfw0000gq/T/ipykernel_79782/1418283119.py:4: MatplotlibDeprecationWarning: Axes3D(fig) adding itself to the figure is deprecated since 3.4. Pass the keyword argument auto_add_to_figure=False and use fig.add_axes(ax) to suppress this warning. The default value of auto_add_to_figure will change to False in mpl3.5 and True values will no longer work in 3.6.  This is consistent with other Axes classes.\n",
            "  ax = Axes3D(fig)\n"
          ]
        },
        {
          "data": {
            "image/png": "[encoded data removed]",
            "text/plain": [
              "<Figure size 432x288 with 1 Axes>"
            ]
          },
          "metadata": {
            "needs_background": "light"
          },
          "output_type": "display_data"
        }
      ],
      "source": [
        "# try two different values for the weights argument in knn\n",
        "\n",
        "fig = plt.figure()\n",
        "ax = Axes3D(fig)\n",
        "\n",
        "for weights in ['uniform', 'distance']:\n",
        "    # we create an instance of Neighbours Classifier and fit the data.\n",
        "    clf = neighbors.KNeighborsClassifier(n_neighbors, weights=weights)\n",
        "    clf.fit(X, y)\n",
        "\n",
        "    # Plot the decision boundary. For that, we will assign a color to each\n",
        "    # point in the mesh [x_min, x_max]x[y_min, y_max].\n",
        "    x_min, x_max = X[:, 0].min() - 1, X[:, 0].max() + 1\n",
        "    y_min, y_max = X[:, 1].min() - 1, X[:, 1].max() + 1\n",
        "    z_min, z_max = X[:, 2].min() - 1, X[:, 2].max() + 1\n",
        "    xx, yy, zz = np.meshgrid(np.arange(x_min, x_max, h),np.arange(y_min, y_max, h),np.arange(z_min, z_max, h))\n",
        "    Z = clf.predict(np.c_[xx.ravel(), yy.ravel(), zz.ravel()])\n",
        "\n",
        "    # Put the result into a color plot\n",
        "    Z = Z.reshape(xx.shape)\n",
        "    #ax.pcolormesh(xx, yy, zz, cmap=cmap_light)\n",
        "   \n",
        "\n",
        "    # Plot also the training points\n",
        "    ax.scatter(X[:, 0], X[:, 1], X[:, 2], c=y, cmap=cmap_bold)\n",
        "    ax.set_xlim(xx.min(), xx.max())\n",
        "    ax.set_ylim(yy.min(), yy.max())\n",
        "    ax.set_zlim(zz.min(), zz.max())\n",
        "    # ax.title(\"3-Class classification (k = %i, weights = '%s')\"\n",
        "    #          % (n_neighbors, weights))\n",
        "    \n",
        "    ax.set_xlabel('X-axis')\n",
        "    ax.set_ylabel('Y-axis')\n",
        "    ax.set_zlabel('Z-axis')\n",
        "\n",
        "plt.show()"
      ]
    }
  ],
  "metadata": {
    "colab": {
      "collapsed_sections": [],
      "name": "01-Knn-Plot-2D-2021-04.ipynb",
      "provenance": []
    },
    "interpreter": {
      "hash": "a39c75215214a0c56e27045d7dad723d3913eeb2c88109ae83ee6a2d98838bf1"
    },
    "kernelspec": {
      "display_name": "Python 3.8.12 64-bit ('Work': conda)",
      "name": "python3"
    },
    "language_info": {
      "codemirror_mode": {
        "name": "ipython",
        "version": 3
      },
      "file_extension": ".py",
      "mimetype": "text/x-python",
      "name": "python",
      "nbconvert_exporter": "python",
      "pygments_lexer": "ipython3",
      "version": "3.8.10"
    }
  },
  "nbformat": 4,
  "nbformat_minor": 2
}
