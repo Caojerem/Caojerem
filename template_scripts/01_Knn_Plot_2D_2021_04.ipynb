{
  "nbformat": 4,
  "nbformat_minor": 0,
  "metadata": {
    "colab": {
      "name": "01-Knn-Plot-2D-2021-04.ipynb",
      "provenance": [],
      "collapsed_sections": []
    },
    "kernelspec": {
      "name": "python3",
      "display_name": "Python 3"
    }
  },
  "cells": [
    {
      "cell_type": "code",
      "metadata": {
        "id": "33V_o66TyXFT",
        "colab": {
          "base_uri": "https://localhost:8080/"
        },
        "outputId": "3f5de787-867a-4c37-a35e-130bb2ffaf72"
      },
      "source": [
        "\"\"\"\n",
        "================================\n",
        "Nearest Neighbors Classification\n",
        "================================\n",
        "\n",
        "Sample usage of Nearest Neighbors classification.\n",
        "It will plot the decision boundaries for each class.\n",
        "\"\"\"\n",
        "print(__doc__)\n",
        "\n",
        "import numpy as np\n",
        "import matplotlib.pyplot as plt\n",
        "from matplotlib.colors import ListedColormap\n",
        "from sklearn import neighbors, datasets\n",
        "\n",
        "n_neighbors = 10\n",
        "\n",
        "# import the iris data to play with, keep only two input variables in order to make the plots at the end of the script\n",
        "iris = datasets.load_iris()\n",
        "X = iris.data[:, :2]  # we only take the first two features. We could\n",
        "                      # avoid this ugly slicing by using a two-dim dataset\n",
        "y = iris.target"
      ],
      "execution_count": null,
      "outputs": [
        {
          "output_type": "stream",
          "name": "stdout",
          "text": [
            "\n",
            "================================\n",
            "Nearest Neighbors Classification\n",
            "================================\n",
            "\n",
            "Sample usage of Nearest Neighbors classification.\n",
            "It will plot the decision boundaries for each class.\n",
            "\n"
          ]
        }
      ]
    },
    {
      "cell_type": "code",
      "metadata": {
        "colab": {
          "base_uri": "https://localhost:8080/"
        },
        "id": "wKp3xfwXjpUP",
        "outputId": "1f448987-1935-4ddc-fe55-30534678a790"
      },
      "source": [
        "X.shape"
      ],
      "execution_count": null,
      "outputs": [
        {
          "output_type": "execute_result",
          "data": {
            "text/plain": [
              "(150, 2)"
            ]
          },
          "metadata": {},
          "execution_count": 3
        }
      ]
    },
    {
      "cell_type": "code",
      "metadata": {
        "id": "SYu2niMK3Wow",
        "colab": {
          "base_uri": "https://localhost:8080/"
        },
        "outputId": "e489b7b1-508d-45df-d07e-cd64bec0fb1c"
      },
      "source": [
        "print(y)"
      ],
      "execution_count": null,
      "outputs": [
        {
          "output_type": "stream",
          "name": "stdout",
          "text": [
            "[0 0 0 0 0 0 0 0 0 0 0 0 0 0 0 0 0 0 0 0 0 0 0 0 0 0 0 0 0 0 0 0 0 0 0 0 0\n",
            " 0 0 0 0 0 0 0 0 0 0 0 0 0 1 1 1 1 1 1 1 1 1 1 1 1 1 1 1 1 1 1 1 1 1 1 1 1\n",
            " 1 1 1 1 1 1 1 1 1 1 1 1 1 1 1 1 1 1 1 1 1 1 1 1 1 1 2 2 2 2 2 2 2 2 2 2 2\n",
            " 2 2 2 2 2 2 2 2 2 2 2 2 2 2 2 2 2 2 2 2 2 2 2 2 2 2 2 2 2 2 2 2 2 2 2 2 2\n",
            " 2 2]\n"
          ]
        }
      ]
    },
    {
      "cell_type": "code",
      "metadata": {
        "colab": {
          "base_uri": "https://localhost:8080/"
        },
        "id": "RPGQ149Cj9MO",
        "outputId": "e9a4b97a-4c07-4fba-e2bb-cc16fd7e4d5b"
      },
      "source": [
        "clf = neighbors.KNeighborsClassifier(n_neighbors) # je précise la méthode et ses hyperparamètres\n",
        "clf.fit(X, y) # je lance l'apprentissage"
      ],
      "execution_count": null,
      "outputs": [
        {
          "output_type": "execute_result",
          "data": {
            "text/plain": [
              "KNeighborsClassifier(n_neighbors=10)"
            ]
          },
          "metadata": {},
          "execution_count": 5
        }
      ]
    },
    {
      "cell_type": "code",
      "metadata": {
        "id": "9bgshqS-0Fz9"
      },
      "source": [
        "# Si on est en régresssion..\n",
        "#clf = neighbors.KNeighborsRegressor(n_neighbors=) # je précise la méthode et ses hyperparamètres\n"
      ],
      "execution_count": null,
      "outputs": []
    },
    {
      "cell_type": "code",
      "metadata": {
        "colab": {
          "base_uri": "https://localhost:8080/"
        },
        "id": "kGE8eK0PkgXc",
        "outputId": "3a4e5b90-9f72-4313-9db3-80eda5c35152"
      },
      "source": [
        "# prevision\n",
        "clf.predict(X)"
      ],
      "execution_count": null,
      "outputs": [
        {
          "output_type": "execute_result",
          "data": {
            "text/plain": [
              "array([0, 0, 0, 0, 0, 0, 0, 0, 0, 0, 0, 0, 0, 0, 0, 0, 0, 0, 0, 0, 0, 0,\n",
              "       0, 0, 0, 0, 0, 0, 0, 0, 0, 0, 0, 0, 0, 0, 0, 0, 0, 0, 0, 0, 0, 0,\n",
              "       0, 0, 0, 0, 0, 0, 2, 2, 2, 1, 2, 1, 2, 1, 1, 1, 1, 1, 1, 1, 1, 2,\n",
              "       1, 1, 1, 1, 1, 1, 2, 1, 2, 1, 1, 1, 1, 1, 1, 1, 1, 1, 1, 1, 2, 2,\n",
              "       1, 1, 1, 1, 1, 1, 1, 1, 1, 1, 1, 1, 2, 1, 2, 2, 2, 2, 1, 2, 1, 2,\n",
              "       2, 2, 2, 1, 1, 2, 2, 2, 2, 1, 2, 1, 2, 2, 2, 2, 2, 1, 2, 2, 2, 2,\n",
              "       2, 2, 1, 2, 2, 2, 1, 2, 2, 2, 1, 2, 2, 1, 2, 2, 2, 1])"
            ]
          },
          "metadata": {
            "tags": []
          },
          "execution_count": 7
        }
      ]
    },
    {
      "cell_type": "code",
      "metadata": {
        "colab": {
          "base_uri": "https://localhost:8080/"
        },
        "id": "vZiw3oIKk0Oy",
        "outputId": "b5d37227-3499-403a-9834-13c07e3429f9"
      },
      "source": [
        "clf.score(X,y) # predit + calcul le score = la précision"
      ],
      "execution_count": null,
      "outputs": [
        {
          "output_type": "execute_result",
          "data": {
            "text/plain": [
              "0.8466666666666667"
            ]
          },
          "metadata": {
            "tags": []
          },
          "execution_count": 8
        }
      ]
    },
    {
      "cell_type": "code",
      "metadata": {
        "colab": {
          "base_uri": "https://localhost:8080/"
        },
        "id": "JtMkxn1qmELd",
        "outputId": "d6af8f8d-e558-4a6b-9455-74f64485645f"
      },
      "source": [
        "import random\n",
        "from sklearn.model_selection import train_test_split\n",
        "X_train,X_test,Y_train,Y_test = train_test_split(X,y,test_size=0.3,random_state=random.seed())\n",
        "print(X_train.shape)\n",
        "print(X_test.shape)\n"
      ],
      "execution_count": null,
      "outputs": [
        {
          "output_type": "stream",
          "name": "stdout",
          "text": [
            "(105, 2)\n",
            "(45, 2)\n"
          ]
        }
      ]
    },
    {
      "cell_type": "code",
      "metadata": {
        "colab": {
          "base_uri": "https://localhost:8080/"
        },
        "id": "i2buBo3mnFGn",
        "outputId": "29bb8932-c46e-4ee5-a79c-b7a7b4c56d04"
      },
      "source": [
        "n_neighbors=10\n",
        "clf = neighbors.KNeighborsClassifier(n_neighbors) # je précise la méthode et ses hyperparamètres\n",
        "clf.fit(X_train, Y_train) # je lance l'apprentissage\n",
        "prev_test = clf.predict(X_test)\n",
        "sc_train = clf.score(X_train,Y_train)\n",
        "sc_test = clf.score(X_test,Y_test)\n",
        "print(sc_train)\n",
        "print(sc_test)\n"
      ],
      "execution_count": null,
      "outputs": [
        {
          "output_type": "stream",
          "name": "stdout",
          "text": [
            "0.8476190476190476\n",
            "0.6888888888888889\n"
          ]
        }
      ]
    },
    {
      "cell_type": "code",
      "metadata": {
        "colab": {
          "base_uri": "https://localhost:8080/"
        },
        "id": "wR4F-ArGB-rb",
        "outputId": "e33938a7-982a-412e-dd99-c48758323a24"
      },
      "source": [
        "# Compute the confusion matrix between kmean label and iris types\n",
        "from sklearn.metrics import confusion_matrix\n",
        "\n",
        "cm=confusion_matrix(Y_test,prev_test)\n",
        "# the confusion matrix is difficult to read as labels assigned by kmeans are arbitrary\n",
        "print(cm)"
      ],
      "execution_count": null,
      "outputs": [
        {
          "output_type": "stream",
          "name": "stdout",
          "text": [
            "[[15  0  0]\n",
            " [ 0 10 11]\n",
            " [ 0  3  6]]\n"
          ]
        }
      ]
    },
    {
      "cell_type": "code",
      "metadata": {
        "id": "C_MXzsdSoYjw",
        "colab": {
          "base_uri": "https://localhost:8080/"
        },
        "outputId": "3fba72cb-54bd-4349-be1a-b9bbab59ad18"
      },
      "source": [
        "# Pour voir l'effet du partage ...\n",
        "\n",
        "from sklearn.model_selection import KFold\n",
        "kf=KFold(n_splits=4, shuffle=True) # partages de validation\n",
        "XXX = X_train[:12,:]  # je prends uniquement les 12 premières lignes\n",
        "#print(XXX)\n",
        "for learn,test in kf.split(XXX): # boucle sur différents partages de validation\n",
        "  print(\"Learn\")\n",
        "  print(learn)\n",
        "  print(\"test\")\n",
        "  print(test)"
      ],
      "execution_count": null,
      "outputs": [
        {
          "output_type": "stream",
          "name": "stdout",
          "text": [
            "Learn\n",
            "[ 0  1  2  3  5  6  9 10 11]\n",
            "test\n",
            "[4 7 8]\n",
            "Learn\n",
            "[ 0  1  2  4  6  7  8  9 11]\n",
            "test\n",
            "[ 3  5 10]\n",
            "Learn\n",
            "[ 0  2  3  4  5  7  8  9 10]\n",
            "test\n",
            "[ 1  6 11]\n",
            "Learn\n",
            "[ 1  3  4  5  6  7  8 10 11]\n",
            "test\n",
            "[0 2 9]\n"
          ]
        }
      ]
    },
    {
      "cell_type": "code",
      "metadata": {
        "colab": {
          "base_uri": "https://localhost:8080/"
        },
        "id": "w5BVwzv1cWTj",
        "outputId": "bf244c9c-adef-4e2e-ce53-c773097b279c"
      },
      "source": [
        "from sklearn.model_selection import KFold\n",
        "kf=KFold(n_splits=3, shuffle=True) # partages de validation\n",
        "\n",
        "\n",
        "from sklearn import neighbors\n",
        "scores=[]\n",
        "for k in range(1,10):  # les différentes valeurs de k à tester\n",
        "    score=0\n",
        "    clf=neighbors.KNeighborsClassifier(k)\n",
        "    for learn,test in kf.split(X_train): # boucle sur différents partages de validation\n",
        "        X_app=X_train[learn]\n",
        "        Y_app=Y_train[learn]\n",
        "        clf.fit(X_app,Y_app)\n",
        "        X_val=X_train[test]\n",
        "        Y_val=Y_train[test]\n",
        "        score+=clf.score(X_val,Y_val)\n",
        "    scores.append(score)\n",
        "print(scores)\n",
        "#plt(scores)\n",
        "k_opt=scores.index(max(scores)) + 1  # valeur optimale de k\n",
        "print(k_opt)"
      ],
      "execution_count": null,
      "outputs": [
        {
          "output_type": "stream",
          "name": "stdout",
          "text": [
            "[2.314285714285714, 2.1714285714285717, 2.4000000000000004, 2.2857142857142856, 2.571428571428571, 2.4571428571428573, 2.4285714285714284, 2.5428571428571427, 2.542857142857143]\n",
            "5\n"
          ]
        }
      ]
    },
    {
      "cell_type": "code",
      "metadata": {
        "id": "AnCsnpeDygF3"
      },
      "source": [
        "h = .02  # step size in the mesh for the graphics\n",
        "\n",
        "# Create color maps\n",
        "cmap_light = ListedColormap(['#FFAAAA', '#AAFFAA', '#AAAAFF'])\n",
        "cmap_bold = ListedColormap(['#FF0000', '#00FF00', '#0000FF'])\n"
      ],
      "execution_count": null,
      "outputs": []
    },
    {
      "cell_type": "code",
      "metadata": {
        "id": "vj3ObNqbBJ6e",
        "colab": {
          "base_uri": "https://localhost:8080/",
          "height": 544
        },
        "outputId": "551a9238-37b4-45cd-d2e2-9860b7d176b0"
      },
      "source": [
        "# try two different values for the weights argument in knn\n",
        "\n",
        "for weights in ['uniform', 'distance']:\n",
        "    # we create an instance of Neighbours Classifier and fit the data.\n",
        "    clf = neighbors.KNeighborsClassifier(n_neighbors, weights=weights)\n",
        "    clf.fit(X, y)\n",
        "\n",
        "    # Plot the decision boundary. For that, we will assign a color to each\n",
        "    # point in the mesh [x_min, x_max]x[y_min, y_max].\n",
        "    x_min, x_max = X[:, 0].min() - 1, X[:, 0].max() + 1\n",
        "    y_min, y_max = X[:, 1].min() - 1, X[:, 1].max() + 1\n",
        "    xx, yy = np.meshgrid(np.arange(x_min, x_max, h),\n",
        "                         np.arange(y_min, y_max, h))\n",
        "    Z = clf.predict(np.c_[xx.ravel(), yy.ravel()])\n",
        "\n",
        "    # Put the result into a color plot\n",
        "    Z = Z.reshape(xx.shape)\n",
        "    plt.figure()\n",
        "    plt.pcolormesh(xx, yy, Z, cmap=cmap_light)\n",
        "\n",
        "    # Plot also the training points\n",
        "    plt.scatter(X[:, 0], X[:, 1], c=y, cmap=cmap_bold)\n",
        "    plt.xlim(xx.min(), xx.max())\n",
        "    plt.ylim(yy.min(), yy.max())\n",
        "    plt.title(\"3-Class classification (k = %i, weights = '%s')\"\n",
        "              % (n_neighbors, weights))\n",
        "\n",
        "plt.show()"
      ],
      "execution_count": null,
      "outputs": [
        {
          "output_type": "display_data",
          "data": {
            "image/png": "[encoded data removed]",
            "text/plain": [
              "<Figure size 432x288 with 1 Axes>"
            ]
          },
          "metadata": {
            "tags": [],
            "needs_background": "light"
          }
        },
        {
          "output_type": "display_data",
          "data": {
            "image/png": "[encoded data removed]",
            "text/plain": [
              "<Figure size 432x288 with 1 Axes>"
            ]
          },
          "metadata": {
            "tags": [],
            "needs_background": "light"
          }
        }
      ]
    }
  ]
}