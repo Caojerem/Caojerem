{
  "nbformat": 4,
  "nbformat_minor": 0,
  "metadata": {
    "colab": {
      "name": "DecisionTreeExample.ipynb",
      "provenance": [],
      "collapsed_sections": []
    },
    "kernelspec": {
      "name": "python3",
      "display_name": "Python 3"
    }
  },
  "cells": [
    {
      "cell_type": "markdown",
      "metadata": {
        "id": "AX-d1PIO4Hbn"
      },
      "source": [
        "#Test decision tree classifyer over digits dataset"
      ]
    },
    {
      "cell_type": "code",
      "metadata": {
        "id": "f0bOszZt37fv",
        "colab": {
          "base_uri": "https://localhost:8080/"
        },
        "outputId": "37100a76-0f0a-4fc8-b3fe-7dda2cd55433"
      },
      "source": [
        "import numpy as np\n",
        "from sklearn.datasets import load_digits\n",
        "\n",
        "# https://archive.ics.uci.edu/ml/datasets/Optical+Recognition+of+Handwritten+Digits\n",
        "digits=load_digits()\n",
        "# print(dir(digits))\n",
        "# print(digits.DESCR)\n",
        "X=digits.data\n",
        "Y=digits.target\n",
        "print(digits.data.shape)\n",
        "print(Y)"
      ],
      "execution_count": null,
      "outputs": [
        {
          "output_type": "stream",
          "text": [
            "(1797, 64)\n",
            "[0 1 2 ... 8 9 8]\n"
          ],
          "name": "stdout"
        }
      ]
    },
    {
      "cell_type": "code",
      "metadata": {
        "colab": {
          "base_uri": "https://localhost:8080/",
          "height": 211
        },
        "id": "LdymCLkz41lS",
        "outputId": "9039791f-46e2-441a-8218-7cd8c96f713f"
      },
      "source": [
        "import matplotlib.pyplot as plt\n",
        "#Display the first digit\n",
        "plt.figure(1, figsize=(3, 3))\n",
        "plt.imshow(digits.images[-1], cmap=plt.cm.gray_r, interpolation='nearest')\n",
        "plt.show()"
      ],
      "execution_count": null,
      "outputs": [
        {
          "output_type": "display_data",
          "data": {
            "image/png": "[encoded data removed]",
            "text/plain": [
              "<Figure size 216x216 with 1 Axes>"
            ]
          },
          "metadata": {
            "tags": [],
            "needs_background": "light"
          }
        }
      ]
    },
    {
      "cell_type": "code",
      "metadata": {
        "colab": {
          "base_uri": "https://localhost:8080/"
        },
        "id": "2-HHAX4b5Dw4",
        "outputId": "cc4662d4-acad-436d-dc3f-cc999bf301d2"
      },
      "source": [
        "# look at the first image in two ways, a matrix and a vector\n",
        "print(digits.images[0])\n",
        "print(digits.data[0,])"
      ],
      "execution_count": null,
      "outputs": [
        {
          "output_type": "stream",
          "text": [
            "[[ 0.  0.  5. 13.  9.  1.  0.  0.]\n",
            " [ 0.  0. 13. 15. 10. 15.  5.  0.]\n",
            " [ 0.  3. 15.  2.  0. 11.  8.  0.]\n",
            " [ 0.  4. 12.  0.  0.  8.  8.  0.]\n",
            " [ 0.  5.  8.  0.  0.  9.  8.  0.]\n",
            " [ 0.  4. 11.  0.  1. 12.  7.  0.]\n",
            " [ 0.  2. 14.  5. 10. 12.  0.  0.]\n",
            " [ 0.  0.  6. 13. 10.  0.  0.  0.]]\n",
            "[ 0.  0.  5. 13.  9.  1.  0.  0.  0.  0. 13. 15. 10. 15.  5.  0.  0.  3.\n",
            " 15.  2.  0. 11.  8.  0.  0.  4. 12.  0.  0.  8.  8.  0.  0.  5.  8.  0.\n",
            "  0.  9.  8.  0.  0.  4. 11.  0.  1. 12.  7.  0.  0.  2. 14.  5. 10. 12.\n",
            "  0.  0.  0.  0.  6. 13. 10.  0.  0.  0.]\n"
          ],
          "name": "stdout"
        }
      ]
    },
    {
      "cell_type": "code",
      "metadata": {
        "colab": {
          "base_uri": "https://localhost:8080/",
          "height": 265
        },
        "id": "03etDtrX5V90",
        "outputId": "ae429a2a-f0d8-4b06-bd0a-c915ad47aec5"
      },
      "source": [
        "#Displaysome images\n",
        "for i in range(0,9):\n",
        "#  plt.figure(1, figsize=(3, 3))\n",
        "  sp = plt.subplot(331+i)\n",
        "  plt.imshow(digits.images[i], cmap=plt.cm.gray_r, interpolation='nearest')\n",
        "plt.show()"
      ],
      "execution_count": null,
      "outputs": [
        {
          "output_type": "display_data",
          "data": {
            "image/png": "[encoded data removed]",
            "text/plain": [
              "<Figure size 432x288 with 9 Axes>"
            ]
          },
          "metadata": {
            "tags": [],
            "needs_background": "light"
          }
        }
      ]
    },
    {
      "cell_type": "code",
      "metadata": {
        "id": "c4PV4Lge3_ts",
        "colab": {
          "base_uri": "https://localhost:8080/"
        },
        "outputId": "e30aad81-da71-4d13-b373-b70195a11ab0"
      },
      "source": [
        "from sklearn import tree\n",
        "import random\n",
        "from sklearn.model_selection import train_test_split\n",
        "from sklearn.metrics import confusion_matrix\n",
        "\n",
        "X_train,X_test,Y_train,Y_test = train_test_split(X,Y,test_size=0.3,random_state=random.seed())\n",
        "clf=tree.DecisionTreeClassifier(max_leaf_nodes=40,criterion='entropy')\n",
        "clf.fit(X_train,Y_train)\n",
        "prev_test = clf.predict(X_tes\n",
        "                        t)\n",
        "#print(prev)\n",
        "scoretree = clf.score(X_test,Y_test)\n",
        "# Compute the confusion matrix between kmean label and iris types\n",
        "\n",
        "cm=confusion_matrix(Y_test,prev_test)\n",
        "# the confusion matrix is difficult to read as labels assigned by kmeans are arbitrary\n",
        "print(cm)\n",
        "print(scoretree)"
      ],
      "execution_count": null,
      "outputs": [
        {
          "output_type": "stream",
          "text": [
            "[[45  0  0  0  2  0  0  0  0  0]\n",
            " [ 0 51  2  1  0  0  0  1  2  4]\n",
            " [ 2  3 42  2  0  1  1  0  4  2]\n",
            " [ 0  1  1 39  0  0  1  1  0  2]\n",
            " [ 0  1  0  1 42  1  0  2  0  0]\n",
            " [ 0  2  0  2  4 44  1  1  0  5]\n",
            " [ 0  1  0  0  2  0 60  0  1  0]\n",
            " [ 2  0  2  1  2  1  0 44  0  0]\n",
            " [ 0  2  1  2  0  1  1  1 42  3]\n",
            " [ 0  1  0  0  1  2  0  3  0 48]]\n",
            "0.8462962962962963\n"
          ],
          "name": "stdout"
        }
      ]
    }
  ]
}